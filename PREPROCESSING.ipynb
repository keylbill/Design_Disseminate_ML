{
  "nbformat": 4,
  "nbformat_minor": 0,
  "metadata": {
    "colab": {
      "name": "CSCE 633 HW5",
      "provenance": [],
      "authorship_tag": "ABX9TyPQ8nwlxGdUz8ZzEcartPRk",
      "include_colab_link": true
    },
    "kernelspec": {
      "name": "python3",
      "display_name": "Python 3"
    }
  },
  "cells": [
    {
      "cell_type": "markdown",
      "metadata": {
        "id": "view-in-github",
        "colab_type": "text"
      },
      "source": [
        "<a href=\"https://colab.research.google.com/github/zyq823/Design_Disseminate_ML/blob/master/PREPROCESSING.ipynb\" target=\"_parent\"><img src=\"https://colab.research.google.com/assets/colab-badge.svg\" alt=\"Open In Colab\"/></a>"
      ]
    },
    {
      "cell_type": "code",
      "metadata": {
        "id": "AfKeGBh3WR_h",
        "outputId": "9f82061d-7ea6-432c-edb9-18137d6639df",
        "colab": {
          "base_uri": "https://localhost:8080/"
        }
      },
      "source": [
        "#this first block loads several modules that we may or may not use\n",
        "#it serves as a check that you have them installed\n",
        "import numpy as np\n",
        "from sklearn.tree import DecisionTreeClassifier\n",
        "import pandas as pd\n",
        "import matplotlib.pyplot as plot\n",
        "import torch\n",
        "import torch.nn as nn\n",
        "\n",
        "#libraries for image trimming and resizing\n",
        "from PIL import Image, ImageDraw, ImageFilter\n",
        "\n",
        "#pathing libraries\n",
        "import os\n",
        "import glob\n",
        "\n",
        "#loading images from Google Drive\n",
        "from google.colab import drive\n",
        "\n",
        "print(\"Modules loaded\")"
      ],
      "execution_count": 7,
      "outputs": [
        {
          "output_type": "stream",
          "text": [
            "Modules loaded\n"
          ],
          "name": "stdout"
        }
      ]
    },
    {
      "cell_type": "code",
      "metadata": {
        "id": "Ya3NWpLzbueO",
        "outputId": "9de666f5-5fc1-4478-9684-dda3c3351ecf",
        "colab": {
          "base_uri": "https://localhost:8080/"
        }
      },
      "source": [
        "#Access to Google Drive content\n",
        "drive.mount('/content/drive')"
      ],
      "execution_count": 8,
      "outputs": [
        {
          "output_type": "stream",
          "text": [
            "Drive already mounted at /content/drive; to attempt to forcibly remount, call drive.mount(\"/content/drive\", force_remount=True).\n"
          ],
          "name": "stdout"
        }
      ]
    },
    {
      "cell_type": "code",
      "metadata": {
        "id": "TGdkXimrmok1"
      },
      "source": [
        "def crop_center(pil_img, crop_width, crop_height): #manual definition of crop_center\n",
        "    img_width, img_height = pil_img.size\n",
        "    return pil_img.crop(((img_width - crop_width) // 2,\n",
        "                         (img_height - crop_height) // 2,\n",
        "                         (img_width + crop_width) // 2,\n",
        "                         (img_height + crop_height) // 2))"
      ],
      "execution_count": 9,
      "outputs": []
    },
    {
      "cell_type": "code",
      "metadata": {
        "id": "bOWNAxjTeDwk"
      },
      "source": [
        "#Function for getting largest square from center (shaves off excess height, maintain current width)\n",
        "def crop_max_square(pil_img):\n",
        "    return crop_center(pil_img, min(pil_img.size), min(pil_img.size))"
      ],
      "execution_count": 10,
      "outputs": []
    },
    {
      "cell_type": "code",
      "metadata": {
        "id": "ocmV0XnMfXiz"
      },
      "source": [
        "#function that takes in source folder of images, destination folder to save, and image width\n",
        "#The for loop reads each image file, converts to RGB, resizes using LANCZOS filter and saves it to dst_dir\n",
        "def preprocess(src_dir,dst_dir,imageWidth):\n",
        "  files = glob.glob(os.path.join(src_dir , '*.JPG')) #PROBLEM: have to manually change extension to jpg, jpeg, png (and PNG for test).\n",
        "  for f in files:\n",
        "    im = Image.open(f)\n",
        "    im = im.convert(\"RGB\") # important, not all are JPEG. Converts from RGBA to JPEG compatable\n",
        "    im_thumb = crop_max_square(im).resize((imageWidth, imageWidth), Image.LANCZOS)\n",
        "    ftitle, fext = os.path.splitext(os.path.basename(f))\n",
        "    im_thumb.save(os.path.join(dst_dir, ftitle + fext), quality=95)"
      ],
      "execution_count": 28,
      "outputs": []
    },
    {
      "cell_type": "code",
      "metadata": {
        "id": "2b8nPJCXj7Ys"
      },
      "source": [
        "#Train Image Preprocessing\n",
        "imageWidth=200 # dimensionality of 200x200\n",
        "src_dir = '/content/drive/My Drive/CSCE633_Homework5/train/' #source of images folder; where the files are from\n",
        "dst_dir = '/content/drive/My Drive/CSCE633_Homework5/train_PREPROCESSED/' #destination of where images will be saved\n",
        "preprocess(src_dir,dst_dir,imageWidth)"
      ],
      "execution_count": 29,
      "outputs": []
    },
    {
      "cell_type": "code",
      "metadata": {
        "id": "pgaPGKL4q9LJ"
      },
      "source": [
        "#Test Image Preprocessing\n",
        "imageWidth=200\n",
        "src_dir = '/content/drive/My Drive/CSCE633_Homework5/test/' #source of images folder; where the files are from\n",
        "dst_dir = '/content/drive/My Drive/CSCE633_Homework5/test_PREPROCESSED/' #destination of where images will be saved\n",
        "preprocess(src_dir,dst_dir,imageWidth)"
      ],
      "execution_count": 27,
      "outputs": []
    },
    {
      "cell_type": "code",
      "metadata": {
        "id": "bIM7ofnVpCx2"
      },
      "source": [
        ""
      ],
      "execution_count": null,
      "outputs": []
    }
  ]
}